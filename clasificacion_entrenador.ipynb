{
 "cells": [
  {
   "cell_type": "markdown",
   "id": "2e89932e",
   "metadata": {},
   "source": [
    "<h4>Clasificacion Ejecucion Sentadilla</h4>"
   ]
  },
  {
   "cell_type": "code",
   "execution_count": 23,
   "id": "749febfb",
   "metadata": {},
   "outputs": [],
   "source": [
    "# dependencias iniciales\n",
    "import numpy as np;\n",
    "import pandas as pd;\n",
    "from datetime import datetime as dt;"
   ]
  },
  {
   "cell_type": "code",
   "execution_count": 24,
   "id": "ad2521da",
   "metadata": {},
   "outputs": [
    {
     "data": {
      "text/html": [
       "<div>\n",
       "<style scoped>\n",
       "    .dataframe tbody tr th:only-of-type {\n",
       "        vertical-align: middle;\n",
       "    }\n",
       "\n",
       "    .dataframe tbody tr th {\n",
       "        vertical-align: top;\n",
       "    }\n",
       "\n",
       "    .dataframe thead th {\n",
       "        text-align: right;\n",
       "    }\n",
       "</style>\n",
       "<table border=\"1\" class=\"dataframe\">\n",
       "  <thead>\n",
       "    <tr style=\"text-align: right;\">\n",
       "      <th></th>\n",
       "      <th>abd_apertura_cadera</th>\n",
       "      <th>abd_cierre_rodilla</th>\n",
       "      <th>cadera_espalda</th>\n",
       "      <th>cerradura_lados</th>\n",
       "      <th>tobillos</th>\n",
       "      <th>resultado</th>\n",
       "    </tr>\n",
       "  </thead>\n",
       "  <tbody>\n",
       "    <tr>\n",
       "      <th>0</th>\n",
       "      <td>88.0368</td>\n",
       "      <td>59.9205</td>\n",
       "      <td>47.3695</td>\n",
       "      <td>59.8113</td>\n",
       "      <td>85.3712</td>\n",
       "      <td>CORRECTO</td>\n",
       "    </tr>\n",
       "    <tr>\n",
       "      <th>1</th>\n",
       "      <td>82.6744</td>\n",
       "      <td>53.7177</td>\n",
       "      <td>50.1164</td>\n",
       "      <td>58.5206</td>\n",
       "      <td>85.6976</td>\n",
       "      <td>CORRECTO</td>\n",
       "    </tr>\n",
       "    <tr>\n",
       "      <th>2</th>\n",
       "      <td>88.4023</td>\n",
       "      <td>54.6920</td>\n",
       "      <td>50.2135</td>\n",
       "      <td>55.6057</td>\n",
       "      <td>82.1497</td>\n",
       "      <td>CORRECTO</td>\n",
       "    </tr>\n",
       "    <tr>\n",
       "      <th>3</th>\n",
       "      <td>75.2159</td>\n",
       "      <td>64.7985</td>\n",
       "      <td>48.0262</td>\n",
       "      <td>54.6331</td>\n",
       "      <td>84.0825</td>\n",
       "      <td>CORRECTO</td>\n",
       "    </tr>\n",
       "    <tr>\n",
       "      <th>4</th>\n",
       "      <td>87.1565</td>\n",
       "      <td>68.9925</td>\n",
       "      <td>51.2370</td>\n",
       "      <td>56.7362</td>\n",
       "      <td>91.7919</td>\n",
       "      <td>CORRECTO</td>\n",
       "    </tr>\n",
       "  </tbody>\n",
       "</table>\n",
       "</div>"
      ],
      "text/plain": [
       "   abd_apertura_cadera  abd_cierre_rodilla  cadera_espalda  cerradura_lados  \\\n",
       "0              88.0368             59.9205         47.3695          59.8113   \n",
       "1              82.6744             53.7177         50.1164          58.5206   \n",
       "2              88.4023             54.6920         50.2135          55.6057   \n",
       "3              75.2159             64.7985         48.0262          54.6331   \n",
       "4              87.1565             68.9925         51.2370          56.7362   \n",
       "\n",
       "   tobillos resultado  \n",
       "0   85.3712  CORRECTO  \n",
       "1   85.6976  CORRECTO  \n",
       "2   82.1497  CORRECTO  \n",
       "3   84.0825  CORRECTO  \n",
       "4   91.7919  CORRECTO  "
      ]
     },
     "metadata": {},
     "output_type": "display_data"
    },
    {
     "name": "stdout",
     "output_type": "stream",
     "text": [
      " (175000, 6)\n"
     ]
    }
   ],
   "source": [
    "#Importamos el dataset para iniciar el análisis\n",
    "dt_entrenador = pd.read_csv(\"dataset/datasetFinal.csv\");\n",
    "\n",
    "#Visualizamos los primeros 5 datos del dataset\n",
    "display(dt_entrenador.head());\n",
    "\n",
    "#total:\n",
    "print(\"\",dt_entrenador.shape);\n"
   ]
  },
  {
   "cell_type": "code",
   "execution_count": 25,
   "id": "06aca225",
   "metadata": {},
   "outputs": [
    {
     "name": "stdout",
     "output_type": "stream",
     "text": [
      "Información del dataset:\n",
      "<class 'pandas.core.frame.DataFrame'>\n",
      "RangeIndex: 175000 entries, 0 to 174999\n",
      "Data columns (total 6 columns):\n",
      " #   Column               Non-Null Count   Dtype  \n",
      "---  ------               --------------   -----  \n",
      " 0   abd_apertura_cadera  175000 non-null  float64\n",
      " 1   abd_cierre_rodilla   175000 non-null  float64\n",
      " 2   cadera_espalda       175000 non-null  float64\n",
      " 3   cerradura_lados      175000 non-null  float64\n",
      " 4   tobillos             175000 non-null  float64\n",
      " 5   resultado            175000 non-null  object \n",
      "dtypes: float64(5), object(1)\n",
      "memory usage: 8.0+ MB\n",
      "None\n",
      "Descripción del dataset:\n",
      "       abd_apertura_cadera  abd_cierre_rodilla  cadera_espalda  \\\n",
      "count        175000.000000       175000.000000   175000.000000   \n",
      "mean             82.494505           57.489519       54.270270   \n",
      "std               4.336106            7.208069       10.013192   \n",
      "min              75.000000           45.000000       25.000500   \n",
      "25%              78.723200           51.242075       48.645850   \n",
      "50%              82.508500           57.475850       54.456100   \n",
      "75%              86.261250           63.707325       60.320400   \n",
      "max              89.999900           69.999800       89.998100   \n",
      "\n",
      "       cerradura_lados       tobillos  \n",
      "count    175000.000000  175000.000000  \n",
      "mean         52.348830      82.099581  \n",
      "std          15.397447      15.323638  \n",
      "min          20.001700      20.001200  \n",
      "25%          47.441500      81.902100  \n",
      "50%          51.824950      86.260800  \n",
      "75%          56.206600      90.631275  \n",
      "max         169.999000      95.000000  \n",
      "Distribución de los target o etiquetas:\n",
      "resultado\n",
      "CORRECTO      150000\n",
      "INCORRECTO     25000\n",
      "dtype: int64\n"
     ]
    }
   ],
   "source": [
    "########## ANALIZAMOS LOS DATOS ##########\n",
    "\n",
    "#Análizamos los datos que tenemos disponibles\n",
    "print('Información del dataset:');\n",
    "print(dt_entrenador.info());\n",
    "\n",
    "print('Descripción del dataset:');\n",
    "print(dt_entrenador.describe());\n",
    "\n",
    "print('Distribución de los target o etiquetas:');\n",
    "print(dt_entrenador.groupby('resultado').size());"
   ]
  },
  {
   "cell_type": "code",
   "execution_count": 26,
   "id": "f9f836cb",
   "metadata": {},
   "outputs": [],
   "source": [
    "########## APLICACIÓN DE ALGORITMOS DE MACHINE LEARNING ##########\n",
    "\n",
    "from sklearn.model_selection import train_test_split;\n",
    "from sklearn.linear_model import LogisticRegression;\n",
    "from sklearn.svm import SVC;\n",
    "from sklearn.neighbors import KNeighborsClassifier;\n",
    "from sklearn.tree import DecisionTreeClassifier;"
   ]
  },
  {
   "cell_type": "code",
   "execution_count": 27,
   "id": "aa929e02",
   "metadata": {},
   "outputs": [
    {
     "name": "stdout",
     "output_type": "stream",
     "text": [
      "Son 140000 datos para entrenamiento y 35000 datos para prueba\n"
     ]
    },
    {
     "name": "stderr",
     "output_type": "stream",
     "text": [
      "/tmp/ipykernel_851/823254037.py:4: FutureWarning: In a future version of pandas all arguments of DataFrame.drop except for the argument 'labels' will be keyword-only.\n",
      "  X = np.array(dt_entrenador.drop(['resultado'], 1));\n"
     ]
    }
   ],
   "source": [
    "##################################################################\n",
    "########## MODELO de ML\n",
    "#Separo todos los datos con las características y las etiquetas o resultados\n",
    "X = np.array(dt_entrenador.drop(['resultado'], 1));\n",
    "y = np.array(dt_entrenador['resultado']);\n",
    "\n",
    "#Separo los datos de \"train\" en entrenamiento y prueba para probar los algoritmos\n",
    "X_train, X_test, y_train, y_test = train_test_split(X, y, test_size=0.2);\n",
    "print('Son {} datos para entrenamiento y {} datos para prueba'.format(X_train.shape[0], X_test.shape[0]));"
   ]
  },
  {
   "cell_type": "code",
   "execution_count": 29,
   "id": "d282b03f",
   "metadata": {},
   "outputs": [
    {
     "data": {
      "text/plain": [
       "array([[85.9589, 52.8689, 62.4607, 56.635 , 91.0821],\n",
       "       [77.7425, 69.7457, 68.4122, 78.8595, 55.7223],\n",
       "       [87.2222, 52.941 , 53.6374, 57.6218, 93.7632],\n",
       "       ...,\n",
       "       [87.4932, 46.6453, 51.3649, 50.3676, 89.8116],\n",
       "       [81.4774, 65.4639, 61.9334, 51.5962, 84.6296],\n",
       "       [84.3281, 58.663 , 61.1068, 54.0442, 86.6388]])"
      ]
     },
     "metadata": {},
     "output_type": "display_data"
    },
    {
     "data": {
      "text/plain": [
       "array(['CORRECTO', 'INCORRECTO', 'CORRECTO', ..., 'CORRECTO', 'CORRECTO',\n",
       "       'CORRECTO'], dtype=object)"
      ]
     },
     "metadata": {},
     "output_type": "display_data"
    }
   ],
   "source": [
    "display(X_test);\n",
    "display(y_test);"
   ]
  },
  {
   "cell_type": "code",
   "execution_count": 30,
   "id": "bfad4b46",
   "metadata": {},
   "outputs": [
    {
     "name": "stdout",
     "output_type": "stream",
     "text": [
      "Accuracy Regresión Logística: 0.9952142857142857\n"
     ]
    }
   ],
   "source": [
    "#Modelo de Regresión Logística\n",
    "algoritmo = LogisticRegression();\n",
    "algoritmo.fit(X_train, y_train);\n",
    "Y_pred = algoritmo.predict(X_test);\n",
    "print('Accuracy Regresión Logística: {}'.format(algoritmo.score(X_train, y_train)));\n",
    "\n"
   ]
  },
  {
   "cell_type": "code",
   "execution_count": 31,
   "id": "11c65481",
   "metadata": {},
   "outputs": [
    {
     "name": "stdout",
     "output_type": "stream",
     "text": [
      "Accuracy Máquinas de Vectores de Soporte: 1.0\n"
     ]
    }
   ],
   "source": [
    "#Modelo de Máquinas de Vectores de Soporte\n",
    "algoritmo = SVC();\n",
    "algoritmo.fit(X_train, y_train);\n",
    "Y_pred = algoritmo.predict(X_test);\n",
    "print('Accuracy Máquinas de Vectores de Soporte: {}'.format(algoritmo.score(X_train, y_train)));\n",
    "\n"
   ]
  },
  {
   "cell_type": "code",
   "execution_count": 21,
   "id": "e62d3cee",
   "metadata": {},
   "outputs": [
    {
     "name": "stdout",
     "output_type": "stream",
     "text": [
      "Precisión Vecinos más Cercanos: 0.9999928571428571\n"
     ]
    }
   ],
   "source": [
    "#Modelo de Vecinos más Cercanos\n",
    "algoritmo = KNeighborsClassifier(n_neighbors=5);\n",
    "algoritmo.fit(X_train, y_train);\n",
    "Y_pred = algoritmo.predict(X_test)\n",
    "print('Accuracy Vecinos más Cercanos: {}'.format(algoritmo.score(X_train, y_train)));\n",
    "\n"
   ]
  },
  {
   "cell_type": "code",
   "execution_count": 32,
   "id": "6119b4ef",
   "metadata": {},
   "outputs": [
    {
     "name": "stdout",
     "output_type": "stream",
     "text": [
      "Accuracy Árboles de Decisión Clasificación: 1.0\n"
     ]
    }
   ],
   "source": [
    "#Modelo de Árboles de Decisión Clasificación\n",
    "algoritmo = DecisionTreeClassifier();\n",
    "algoritmo.fit(X_train, y_train);\n",
    "Y_pred = algoritmo.predict(X_test);\n",
    "print('Accuracy Árboles de Decisión Clasificación: {}'.format(algoritmo.score(X_train, y_train)));"
   ]
  },
  {
   "cell_type": "code",
   "execution_count": 36,
   "id": "8f85865f",
   "metadata": {},
   "outputs": [
    {
     "name": "stdout",
     "output_type": "stream",
     "text": [
      "['INCORRECTO']\n"
     ]
    }
   ],
   "source": [
    "# Evaluando una entrada real:\n",
    "\n",
    "# buenos cadera_espalda (11,23,25)  ideal 65-45, no ideal: menores a 45 y mayores a 70\n",
    "# buenos cerradura_lados (23,25,27)  ideal 45-60 , no ideal: menores a 45 y mayores a 65\n",
    "# buenos tobillos (27,29,31) ideal:80-95 , no ideal menor a 80 mayor 85\n",
    "\n",
    "\n",
    "#abd_apertura_cadera,abd_cierre_rodilla,cadera_espalda,cerradura_lados,tobillos\n",
    "\n",
    "#X = [[87.4932, 46.6453, 51.3649, 50.3676, 89.8116]]; correcto\n",
    "\n",
    "# generado pro el video:\n",
    "[98.7876, 109.3092, 149.0584, 154.723, 103.4941]\n",
    "[98.7876, 109.3092, 154.3294, 156.1665, 103.6528]\n",
    "[98.7876, 109.3092, 154.4105, 156.751, 103.7326]\n",
    "[98.7876, 109.3092, 157.2021, 159.7304, 99.7968]\n",
    "[98.7876, 109.3092, 151.6913, 155.1426, 104.2115]\n",
    "[98.7876, 109.3092, 149.9069, 155.4865, 102.8742]\n",
    "[98.7876, 109.3092, 153.5117, 158.961, 103.1623]\n",
    "[98.7876, 109.3092, 152.902, 158.6017, 105.8942]\n",
    "\n",
    "\n",
    "X = [[98.7876, 109.3092, 153.5117, 158.961, 103.1623]];\n",
    "Y = algoritmo.predict(X);\n",
    "\n",
    "print(Y);"
   ]
  }
 ],
 "metadata": {
  "kernelspec": {
   "display_name": "Python 3 (ipykernel)",
   "language": "python",
   "name": "python3"
  },
  "language_info": {
   "codemirror_mode": {
    "name": "ipython",
    "version": 3
   },
   "file_extension": ".py",
   "mimetype": "text/x-python",
   "name": "python",
   "nbconvert_exporter": "python",
   "pygments_lexer": "ipython3",
   "version": "3.10.12"
  }
 },
 "nbformat": 4,
 "nbformat_minor": 5
}
