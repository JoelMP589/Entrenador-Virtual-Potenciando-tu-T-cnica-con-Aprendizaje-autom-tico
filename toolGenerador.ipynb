{
 "cells": [
  {
   "cell_type": "markdown",
   "id": "2e89932e",
   "metadata": {},
   "source": [
    "<h4>Clasificacion Ejecucion Sentadilla</h4>"
   ]
  },
  {
   "cell_type": "code",
   "execution_count": 43,
   "id": "749febfb",
   "metadata": {},
   "outputs": [],
   "source": [
    "# dependencias iniciales\n",
    "import numpy as np;\n",
    "import pandas as pd;\n",
    "from datetime import datetime as dt;\n",
    "import random as rd;"
   ]
  },
  {
   "cell_type": "code",
   "execution_count": 44,
   "id": "fd3edeac",
   "metadata": {},
   "outputs": [],
   "source": [
    "'''\n",
    "Funcion que calcula un angulo aleatorio en grados sexagecimales dentro de un rango\n",
    "@param limite inferior del rango\n",
    "@param limite superior del rango\n",
    "@return El angulo calculado \n",
    "'''\n",
    "def calcularAngulo(limiteInferior, limiteSuperior):\n",
    "    \n",
    "    # genrando aleatorio\n",
    "    angulo = round(rd.uniform(limiteInferior, limiteSuperior), 4)\n",
    "    \n",
    "    # si el angulo es mayor que 180 que devuelva el complemento hasta 360\n",
    "    if angulo > 180.0 :\n",
    "        angulo = 360 - angulo;\n",
    "        \n",
    "    return angulo;"
   ]
  },
  {
   "cell_type": "code",
   "execution_count": 45,
   "id": "b4342a10",
   "metadata": {},
   "outputs": [
    {
     "name": "stdout",
     "output_type": "stream",
     "text": [
      "El angulo generado es: 11.0915\n"
     ]
    }
   ],
   "source": [
    "print(\"El angulo generado es:\",calcularAngulo(10, 12));"
   ]
  },
  {
   "cell_type": "code",
   "execution_count": 4,
   "id": "bee32c65",
   "metadata": {},
   "outputs": [
    {
     "name": "stdout",
     "output_type": "stream",
     "text": [
      "2618\n"
     ]
    }
   ],
   "source": [
    "print(rd.randint(1, 5000));"
   ]
  },
  {
   "cell_type": "code",
   "execution_count": 46,
   "id": "3f21a2f0",
   "metadata": {},
   "outputs": [],
   "source": [
    "# nro de ejercicios\n",
    "buenos = 150000;\n",
    "malos = 25000;\n",
    "total = 175000;\n",
    "\n",
    "# abducciones:\n",
    "# abd_apertura_cadera  min 75 max 90\n",
    "apertura_cadera = [];\n",
    "for i in range(0,total,1):\n",
    "    apertura_cadera.append(calcularAngulo(75,90));\n",
    "\n",
    "\n",
    "\n",
    "# abd_cierre_rodilla min 45 max 70\n",
    "cierre_rodilla = [];\n",
    "for i in range(0,total,1):\n",
    "    cierre_rodilla.append(calcularAngulo(45,70));\n"
   ]
  },
  {
   "cell_type": "code",
   "execution_count": 47,
   "id": "4e409d1d",
   "metadata": {},
   "outputs": [],
   "source": [
    "# buenos cadera_espalda ideal 65-45, no ideal: menores a 45 y mayores a 70\n",
    "cadera_espalda = [];\n",
    "for i in range(0,buenos,1):\n",
    "    cadera_espalda.append(calcularAngulo(45,65));\n",
    "\n",
    "# buenos cerradura_lados ideal 45-60 , no ideal: menores a 45 y mayores a 65\n",
    "cerradura_lados = [];\n",
    "for i in range(0,buenos,1):\n",
    "    cerradura_lados.append(calcularAngulo(45,60));\n",
    "\n",
    "\n",
    "# buenos tobillos  ideal:80-95 , no ideal menor a 80 mayor 85\n",
    "tobillos = [];\n",
    "for i in range(0,buenos,1):\n",
    "    tobillos.append(calcularAngulo(80,95));\n",
    "\n",
    "\n",
    "# buenos resultado\n",
    "resultado = [];\n",
    "for i in range(0,buenos,1):\n",
    "    resultado.append('CORRECTO');\n"
   ]
  },
  {
   "cell_type": "code",
   "execution_count": 48,
   "id": "3427fcff",
   "metadata": {},
   "outputs": [],
   "source": [
    "# malos cadera_espalda ideal 65-45, no ideal: menores a 45 y mayores a 70\n",
    "m = rd.randint(1, malos);\n",
    "for i in range(0,m,1):\n",
    "    cadera_espalda.append(calcularAngulo(25,44));\n",
    "\n",
    "for i in range(0,malos-m,1):\n",
    "    cadera_espalda.append(calcularAngulo(68,90));\n",
    "\n",
    "\n",
    "\n",
    "# malos cerradura_lados ideal 45-60 , no ideal: menores a 45 y mayores a 65\n",
    "m = rd.randint(1, malos);\n",
    "for i in range(0,m,1):\n",
    "    cerradura_lados.append(calcularAngulo(20,44));\n",
    "\n",
    "for i in range(0,malos-m,1):\n",
    "    cerradura_lados.append(calcularAngulo(67,170));\n",
    "\n",
    "\n",
    "\n",
    "# malos tobillos  ideal:80-85 , no ideal menor a 80  o mayor 85\n",
    "m = rd.randint(1, malos);\n",
    "for i in range(0,m,1):\n",
    "    tobillos.append(calcularAngulo(20,79));\n",
    "\n",
    "for i in range(0,malos-m,1):\n",
    "    tobillos.append(calcularAngulo(86,95));\n",
    "\n",
    "\n",
    "# malos resultado\n",
    "for i in range(0,malos,1):\n",
    "    resultado.append('INCORRECTO');"
   ]
  },
  {
   "cell_type": "code",
   "execution_count": 49,
   "id": "e17fd471",
   "metadata": {},
   "outputs": [
    {
     "name": "stdout",
     "output_type": "stream",
     "text": [
      "apertura_cadera : 175000\n",
      "cierre_rodilla : 175000\n",
      "cadera_espalda : 175000\n",
      "cerradura_lados : 175000\n",
      "tobillos : 175000\n",
      "resultado : 175000\n"
     ]
    }
   ],
   "source": [
    "# longitudes totales:\n",
    "print(\"apertura_cadera :\",len(apertura_cadera));\n",
    "print(\"cierre_rodilla :\",len(cierre_rodilla));\n",
    "print(\"cadera_espalda :\",len(cadera_espalda));\n",
    "print(\"cerradura_lados :\",len(cerradura_lados));\n",
    "print(\"tobillos :\",len(tobillos));\n",
    "print(\"resultado :\",len(resultado));"
   ]
  },
  {
   "cell_type": "code",
   "execution_count": 50,
   "id": "8e03446c",
   "metadata": {},
   "outputs": [],
   "source": [
    "# convirtiendo en dataset\n",
    "\n",
    "dict = {'abd_apertura_cadera':apertura_cadera,'abd_cierre_rodilla':cierre_rodilla,'cadera_espalda':cadera_espalda,'cerradura_lados':cerradura_lados,'tobillos':tobillos,'resultado':resultado};\n",
    "df = pd.DataFrame(dict)\n",
    "     \n",
    "# saving the dataframe\n",
    "df.to_csv('datasetFinal.csv',index=False)\n"
   ]
  },
  {
   "cell_type": "markdown",
   "id": "85ded3ef",
   "metadata": {},
   "source": []
  },
  {
   "cell_type": "markdown",
   "id": "e9424766",
   "metadata": {},
   "source": []
  },
  {
   "cell_type": "markdown",
   "id": "4387ecc0",
   "metadata": {},
   "source": []
  },
  {
   "cell_type": "markdown",
   "id": "302798e2",
   "metadata": {},
   "source": []
  },
  {
   "cell_type": "code",
   "execution_count": null,
   "id": "572a1bd7",
   "metadata": {},
   "outputs": [],
   "source": [
    "# ejemplo 2 no ejecutar\n",
    "# importing pandas as pd\n",
    "import pandas as pd\n",
    " \n",
    "     \n",
    "# list of name, degree, score\n",
    "nme = [\"aparna\", \"pankaj\", \"sudhir\", \"Geeku\"]\n",
    "deg = [\"MBA\", \"BCA\", \"M.Tech\", \"MBA\"]\n",
    "scr = [90, 40, 80, 98]\n",
    "     \n",
    "# dictionary of lists\n",
    "dict = {'name': nme, 'degree': deg, 'score': scr}\n",
    "     \n",
    "df = pd.DataFrame(dict)\n",
    "     \n",
    "# saving the dataframe\n",
    "df.to_csv('GFG.csv',index=False);\n"
   ]
  }
 ],
 "metadata": {
  "kernelspec": {
   "display_name": "Python 3 (ipykernel)",
   "language": "python",
   "name": "python3"
  },
  "language_info": {
   "codemirror_mode": {
    "name": "ipython",
    "version": 3
   },
   "file_extension": ".py",
   "mimetype": "text/x-python",
   "name": "python",
   "nbconvert_exporter": "python",
   "pygments_lexer": "ipython3",
   "version": "3.10.12"
  }
 },
 "nbformat": 4,
 "nbformat_minor": 5
}
